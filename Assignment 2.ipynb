{
 "cells": [
  {
   "cell_type": "markdown",
   "id": "7d1d64bf",
   "metadata": {},
   "source": [
    "#### Scenario 1"
   ]
  },
  {
   "cell_type": "code",
   "execution_count": null,
   "id": "a3bef52f",
   "metadata": {},
   "outputs": [],
   "source": [
    " def __init__(self):\n",
    "    self.shopping_list = []\n",
    "\n",
    "    def add_item(self, item):\n",
    "        self.shopping_list.append(item)\n",
    "        print(f\"{item} has been added to the shopping list.\")\n",
    "\n",
    "    def remove_item(self, item):\n",
    "        if item in self.shopping_list:\n",
    "            self.shopping_list.remove(item)\n",
    "            print(f\"{item} has been removed from the shopping list.\")\n",
    "        else:\n",
    "            print(f\"{item} is not in the shopping list.\")\n",
    "\n",
    "    def display_list(self):\n",
    "        if not self.shopping_list:\n",
    "            print(\"The shopping list is empty.\")\n",
    "        else:\n",
    "            print(\"Current Shopping List:\")\n",
    "            for index, item in enumerate(self.shopping_list, start=1):\n",
    "                print(f\"{index}. {item}\")\n",
    "\n",
    "def main():\n",
    "    grocery_list = GroceryList()\n",
    "\n",
    "    while True:\n",
    "        # ... rest of the code ...\n",
    "\n",
    "        print(\"\\nOptions:\")\n",
    "        print(\"1. Add item to the shopping list\")\n",
    "        print(\"2. Remove item from the shopping list\")\n",
    "        print(\"3. Display current shopping list\")\n",
    "        print(\"4. Quit\")\n",
    "\n",
    "        choice = input(\"Enter your choice (1-4): \")\n",
    "\n",
    "        if choice == \"1\":\n",
    "            item = input(\"Enter the item to add: \")\n",
    "            grocery_list.add_item(item)\n",
    "        elif choice == \"2\":\n",
    "            item = input(\"Enter the item to remove: \")\n",
    "            grocery_list.remove_item(item)\n",
    "        elif choice == \"3\":\n",
    "            grocery_list.display_list()\n",
    "        elif choice == \"4\":\n",
    "            print(\"Exiting the program. Goodbye!\")\n",
    "            break\n",
    "        else:\n",
    "            print(\"Invalid choice. Please enter a number between 1 and 4.\")"
   ]
  },
  {
   "cell_type": "markdown",
   "id": "78ae5441",
   "metadata": {},
   "source": [
    "#### Scenario 2"
   ]
  },
  {
   "cell_type": "code",
   "execution_count": 6,
   "id": "90076fed",
   "metadata": {},
   "outputs": [],
   "source": [
    "def calculate_average(grades):\n",
    "    if not grades:\n",
    "        return 0\n",
    "    return sum(grades) / len(grades)\n",
    "\n",
    "def main():\n",
    "    student_grades = {}\n",
    "\n",
    "    # Input grades for 5 students\n",
    "    for _ in range(5):\n",
    "        student_name = input(\"Enter student name: \")\n",
    "        try:\n",
    "            grade = float(input(f\"Enter {student_name}'s grade: \"))\n",
    "        except ValueError:\n",
    "            print(\"Invalid input. Please enter a valid numeric grade.\")\n",
    "            continue\n",
    "\n",
    "        student_grades[student_name] = grade\n",
    "\n",
    "    #  average grade\n",
    "    average_grade = calculate_average(list(student_grades.values()))\n",
    "    print(f\"\\nAverage Grade: {average_grade:.2f}\")\n"
   ]
  },
  {
   "cell_type": "markdown",
   "id": "57e456da",
   "metadata": {},
   "source": [
    "#### Scenario 3"
   ]
  },
  {
   "cell_type": "code",
   "execution_count": 9,
   "id": "0ede349f",
   "metadata": {},
   "outputs": [
    {
     "ename": "SyntaxError",
     "evalue": "expected ':' (1477310169.py, line 6)",
     "output_type": "error",
     "traceback": [
      "\u001b[1;36m  Cell \u001b[1;32mIn[9], line 6\u001b[1;36m\u001b[0m\n\u001b[1;33m    else\u001b[0m\n\u001b[1;37m        ^\u001b[0m\n\u001b[1;31mSyntaxError\u001b[0m\u001b[1;31m:\u001b[0m expected ':'\n"
     ]
    }
   ],
   "source": [
    "word_list = [\"apple\", \"banana\", \"apple\", \"orange\", \"banana\", \"grape\", \"apple\"]\n",
    "word_frequency = {}\n",
    "for word in word_list:\n",
    "    if word in word_frequency:\n",
    "        word_frequency[word] += 1\n",
    "    else:\n",
    "        word_frequency[word] = 1\n",
    "for word, count in word_frequency.items():\n",
    "    print(f\"{word} : {count}\")"
   ]
  },
  {
   "cell_type": "markdown",
   "id": "8dabd369",
   "metadata": {},
   "source": [
    "#### Scenario 4"
   ]
  },
  {
   "cell_type": "code",
   "execution_count": null,
   "id": "ba0466b3",
   "metadata": {},
   "outputs": [],
   "source": [
    "class PasswordChecker:\n",
    "    def __init__(self):\n",
    "        pass\n",
    "\n",
    "    def check_password_strength(self, password):\n",
    "        if len(password) < 8:\n",
    "            return \"Weak: Password should be at least 8 characters long.\"\n",
    "        elif not any(char.isdigit() for char in password):\n",
    "            return \"Weak: Password should contain at least one digit.\"\n",
    "        elif not any(char.isalpha() for char in password):\n",
    "            return \"Weak: Password should contain at least one letter.\"\n",
    "        else:\n",
    "            return \"Strong: Password meets the criteria.\"\n",
    "\n",
    "password_checker = PasswordChecker()\n",
    "password = input(\"Enter your password: \")\n",
    "result = password_checker.check_password_strength(password)\n",
    "print(result)\n"
   ]
  },
  {
   "cell_type": "markdown",
   "id": "b703d588",
   "metadata": {},
   "source": [
    "#### Scenario 5\n"
   ]
  },
  {
   "cell_type": "code",
   "execution_count": null,
   "id": "deeb1496",
   "metadata": {},
   "outputs": [],
   "source": [
    "class VotingSystem:\n",
    "    def __init__(self):\n",
    "        self.candidates = ['Candidate A', 'Candidate B', 'Candidate C']\n",
    "        self.votes = {candidate: 0 for candidate in self.candidates}\n",
    "\n",
    "    def display_candidates(self):\n",
    "        print(\"Candidates:\")\n",
    "        for index, candidate in enumerate(self.candidates, start=1):\n",
    "            print(f\"{index}. {candidate}\")\n",
    "\n",
    "    def vote(self, voter_count):\n",
    "        for _ in range(voter_count):\n",
    "            self.display_candidates()\n",
    "            voter_choice = input(\"Enter the number corresponding to your chosen candidate: \")\n",
    "\n",
    "            try:\n",
    "                candidate_index = int(voter_choice) - 1\n",
    "                if 0 <= candidate_index < len(self.candidates):\n",
    "                    selected_candidate = self.candidates[candidate_index]\n",
    "                    self.votes[selected_candidate] += 1\n",
    "                    print(f\"Your vote for '{selected_candidate}' has been recorded.\")\n",
    "                else:\n",
    "                    print(\"Invalid choice. Please choose a valid candidate.\")\n",
    "            except ValueError:\n",
    "                print(\"Invalid input. Please enter a number.\")\n",
    "\n",
    "    def display_results(self):\n",
    "        print(\"\\nVoting Results:\")\n",
    "        for candidate, votes_count in self.votes.items():\n",
    "            print(f\"{candidate}: {votes_count} votes\")\n",
    "\n",
    "voting_system = VotingSystem()\n",
    "voter_count = int(input(\"Enter the number of voters: \"))\n",
    "voting_system.vote(voter_count)\n",
    "voting_system.display_results()\n"
   ]
  }
 ],
 "metadata": {
  "kernelspec": {
   "display_name": "Python 3 (ipykernel)",
   "language": "python",
   "name": "python3"
  },
  "language_info": {
   "codemirror_mode": {
    "name": "ipython",
    "version": 3
   },
   "file_extension": ".py",
   "mimetype": "text/x-python",
   "name": "python",
   "nbconvert_exporter": "python",
   "pygments_lexer": "ipython3",
   "version": "3.11.5"
  }
 },
 "nbformat": 4,
 "nbformat_minor": 5
}
